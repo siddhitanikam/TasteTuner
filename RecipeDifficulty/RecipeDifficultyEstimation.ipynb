{
  "cells": [
    {
      "cell_type": "code",
      "execution_count": 5,
      "metadata": {
        "colab": {
          "base_uri": "https://localhost:8080/",
          "height": 637,
          "referenced_widgets": [
            "502b8599cb3d4f6a842c041d69c7945e",
            "dbf021cdfe02461894b463aaf6adfe75",
            "e0f3341ee6b94bcbbab42c040ea93092",
            "43e8fa06d3f94c689180238ffbb8fc1b",
            "ef2eb747fd9549c6985dfabbe3769c35",
            "998b262437dd46518acd825768cdf588",
            "362dee9d48f449cbaf6fdab409123b06",
            "a189169b3fde4eb2aee921fd4434ecc5",
            "629c4df6fa5746bdb82c1b3d90b8cf35",
            "e421726d0e364cfdbf2a74f81a6ba0d0",
            "01c99dcb0ce04024909aa7715ea2e418"
          ]
        },
        "id": "LRnGPUJupRWr",
        "outputId": "abd3e57b-aa73-44cb-b6ad-f9c3cefbe83e"
      },
      "outputs": [
        {
          "data": {
            "image/png": "[encoded data removed]",
            "text/plain": [
              "<Figure size 640x480 with 1 Axes>"
            ]
          },
          "metadata": {},
          "output_type": "display_data"
        },
        {
          "data": {
            "application/vnd.jupyter.widget-view+json": {
              "model_id": "502b8599cb3d4f6a842c041d69c7945e",
              "version_major": 2,
              "version_minor": 0
            },
            "text/plain": [
              "Text(value='', description='Ingredient:', placeholder='Type an ingredient')"
            ]
          },
          "metadata": {},
          "output_type": "display_data"
        },
        {
          "data": {
            "application/vnd.jupyter.widget-view+json": {
              "model_id": "43e8fa06d3f94c689180238ffbb8fc1b",
              "version_major": 2,
              "version_minor": 0
            },
            "text/plain": [
              "IntSlider(value=5, description='Difficulty:', max=59, min=3)"
            ]
          },
          "metadata": {},
          "output_type": "display_data"
        },
        {
          "data": {
            "application/vnd.jupyter.widget-view+json": {
              "model_id": "362dee9d48f449cbaf6fdab409123b06",
              "version_major": 2,
              "version_minor": 0
            },
            "text/plain": [
              "Button(description='Find Recipes', style=ButtonStyle())"
            ]
          },
          "metadata": {},
          "output_type": "display_data"
        },
        {
          "data": {
            "application/vnd.jupyter.widget-view+json": {
              "model_id": "e421726d0e364cfdbf2a74f81a6ba0d0",
              "version_major": 2,
              "version_minor": 0
            },
            "text/plain": [
              "Output()"
            ]
          },
          "metadata": {},
          "output_type": "display_data"
        }
      ],
      "source": [
        "import json\n",
        "import pandas as pd\n",
        "import matplotlib.pyplot as plt\n",
        "from IPython.display import display\n",
        "import ipywidgets as widgets\n",
        "\n",
        "# Load JSON data from a file where each line is a separate JSON object\n",
        "file_path = 'Recipes.json'\n",
        "recipes = []\n",
        "with open(file_path, 'r') as file:\n",
        "    for line in file:\n",
        "        recipes.append(json.loads(line.strip()))\n",
        "\n",
        "# Create a DataFrame\n",
        "df = pd.DataFrame(recipes)\n",
        "\n",
        "# Function to calculate difficulty based on number of ingredients and steps\n",
        "def calculate_difficulty(recipe):\n",
        "    num_ingredients = len(recipe['ingredients'])\n",
        "    num_directions = len(recipe['directions'])\n",
        "    return num_ingredients + num_directions\n",
        "\n",
        "# Apply the difficulty calculation\n",
        "df['difficulty'] = df.apply(calculate_difficulty, axis=1)\n",
        "\n",
        "# Visualize difficulty distribution\n",
        "plt.hist(df['difficulty'], bins=range(min(df['difficulty']), max(df['difficulty']) + 1), alpha=0.75, color='blue')\n",
        "plt.title('Distribution of Recipe Difficulty')\n",
        "plt.xlabel('Difficulty Level')\n",
        "plt.ylabel('Number of Recipes')\n",
        "plt.show()\n",
        "\n",
        "# Interactive input/output setup\n",
        "ingredient_input = widgets.Text(\n",
        "    value='',\n",
        "    placeholder='Type an ingredient',\n",
        "    description='Ingredient:',\n",
        "    disabled=False\n",
        ")\n",
        "\n",
        "difficulty_input = widgets.IntSlider(\n",
        "    value=5,\n",
        "    min=df['difficulty'].min(),\n",
        "    max=df['difficulty'].max(),\n",
        "    step=1,\n",
        "    description='Difficulty:',\n",
        "    disabled=False\n",
        ")\n",
        "\n",
        "button = widgets.Button(description=\"Find Recipes\")\n",
        "output = widgets.Output()\n",
        "\n",
        "def find_recipes(b):\n",
        "    output.clear_output()\n",
        "    with output:\n",
        "        ingredient = ingredient_input.value.lower()\n",
        "        difficulty = difficulty_input.value\n",
        "        filtered = df[df.apply(lambda x: any(ing['ingredient'].lower() == ingredient for ing in x['ingredients']) and x['difficulty'] == difficulty, axis=1)]\n",
        "        if not filtered.empty:\n",
        "            print(f\"Recipes with '{ingredient}' at difficulty {difficulty}:\")\n",
        "            for index, row in filtered.iterrows():\n",
        "                print(row['name'])\n",
        "        else:\n",
        "            print(f\"No recipes found with '{ingredient}' at difficulty {difficulty}.\")\n",
        "\n",
        "button.on_click(find_recipes)\n",
        "\n",
        "# Display widgets\n",
        "display(ingredient_input, difficulty_input, button, output)\n"
      ]
    }
  ],
  "metadata": {
    "colab": {
      "provenance": []
    },
    "kernelspec": {
      "display_name": "Python 3",
      "name": "python3"
    },
    "language_info": {
      "name": "python"
    },
    "widgets": {
      "application/vnd.jupyter.widget-state+json": {
        "01c99dcb0ce04024909aa7715ea2e418": {
          "model_module": "@jupyter-widgets/base",
          "model_module_version": "1.2.0",
          "model_name": "LayoutModel",
          "state": {
            "_model_module": "@jupyter-widgets/base",
            "_model_module_version": "1.2.0",
            "_model_name": "LayoutModel",
            "_view_count": null,
            "_view_module": "@jupyter-widgets/base",
            "_view_module_version": "1.2.0",
            "_view_name": "LayoutView",
            "align_content": null,
            "align_items": null,
            "align_self": null,
            "border": null,
            "bottom": null,
            "display": null,
            "flex": null,
            "flex_flow": null,
            "grid_area": null,
            "grid_auto_columns": null,
            "grid_auto_flow": null,
            "grid_auto_rows": null,
            "grid_column": null,
            "grid_gap": null,
            "grid_row": null,
            "grid_template_areas": null,
            "grid_template_columns": null,
            "grid_template_rows": null,
            "height": null,
            "justify_content": null,
            "justify_items": null,
            "left": null,
            "margin": null,
            "max_height": null,
            "max_width": null,
            "min_height": null,
            "min_width": null,
            "object_fit": null,
            "object_position": null,
            "order": null,
            "overflow": null,
            "overflow_x": null,
            "overflow_y": null,
            "padding": null,
            "right": null,
            "top": null,
            "visibility": null,
            "width": null
          }
        },
        "362dee9d48f449cbaf6fdab409123b06": {
          "model_module": "@jupyter-widgets/controls",
          "model_module_version": "1.5.0",
          "model_name": "ButtonModel",
          "state": {
            "_dom_classes": [],
            "_model_module": "@jupyter-widgets/controls",
            "_model_module_version": "1.5.0",
            "_model_name": "ButtonModel",
            "_view_count": null,
            "_view_module": "@jupyter-widgets/controls",
            "_view_module_version": "1.5.0",
            "_view_name": "ButtonView",
            "button_style": "",
            "description": "Find Recipes",
            "disabled": false,
            "icon": "",
            "layout": "IPY_MODEL_a189169b3fde4eb2aee921fd4434ecc5",
            "style": "IPY_MODEL_629c4df6fa5746bdb82c1b3d90b8cf35",
            "tooltip": ""
          }
        },
        "43e8fa06d3f94c689180238ffbb8fc1b": {
          "model_module": "@jupyter-widgets/controls",
          "model_module_version": "1.5.0",
          "model_name": "IntSliderModel",
          "state": {
            "_dom_classes": [],
            "_model_module": "@jupyter-widgets/controls",
            "_model_module_version": "1.5.0",
            "_model_name": "IntSliderModel",
            "_view_count": null,
            "_view_module": "@jupyter-widgets/controls",
            "_view_module_version": "1.5.0",
            "_view_name": "IntSliderView",
            "continuous_update": true,
            "description": "Difficulty:",
            "description_tooltip": null,
            "disabled": false,
            "layout": "IPY_MODEL_ef2eb747fd9549c6985dfabbe3769c35",
            "max": 59,
            "min": 3,
            "orientation": "horizontal",
            "readout": true,
            "readout_format": "d",
            "step": 1,
            "style": "IPY_MODEL_998b262437dd46518acd825768cdf588",
            "value": 9
          }
        },
        "502b8599cb3d4f6a842c041d69c7945e": {
          "model_module": "@jupyter-widgets/controls",
          "model_module_version": "1.5.0",
          "model_name": "TextModel",
          "state": {
            "_dom_classes": [],
            "_model_module": "@jupyter-widgets/controls",
            "_model_module_version": "1.5.0",
            "_model_name": "TextModel",
            "_view_count": null,
            "_view_module": "@jupyter-widgets/controls",
            "_view_module_version": "1.5.0",
            "_view_name": "TextView",
            "continuous_update": true,
            "description": "Ingredient:",
            "description_tooltip": null,
            "disabled": false,
            "layout": "IPY_MODEL_dbf021cdfe02461894b463aaf6adfe75",
            "placeholder": "Type an ingredient",
            "style": "IPY_MODEL_e0f3341ee6b94bcbbab42c040ea93092",
            "value": "unsalted butter"
          }
        },
        "629c4df6fa5746bdb82c1b3d90b8cf35": {
          "model_module": "@jupyter-widgets/controls",
          "model_module_version": "1.5.0",
          "model_name": "ButtonStyleModel",
          "state": {
            "_model_module": "@jupyter-widgets/controls",
            "_model_module_version": "1.5.0",
            "_model_name": "ButtonStyleModel",
            "_view_count": null,
            "_view_module": "@jupyter-widgets/base",
            "_view_module_version": "1.2.0",
            "_view_name": "StyleView",
            "button_color": null,
            "font_weight": ""
          }
        },
        "998b262437dd46518acd825768cdf588": {
          "model_module": "@jupyter-widgets/controls",
          "model_module_version": "1.5.0",
          "model_name": "SliderStyleModel",
          "state": {
            "_model_module": "@jupyter-widgets/controls",
            "_model_module_version": "1.5.0",
            "_model_name": "SliderStyleModel",
            "_view_count": null,
            "_view_module": "@jupyter-widgets/base",
            "_view_module_version": "1.2.0",
            "_view_name": "StyleView",
            "description_width": "",
            "handle_color": null
          }
        },
        "a189169b3fde4eb2aee921fd4434ecc5": {
          "model_module": "@jupyter-widgets/base",
          "model_module_version": "1.2.0",
          "model_name": "LayoutModel",
          "state": {
            "_model_module": "@jupyter-widgets/base",
            "_model_module_version": "1.2.0",
            "_model_name": "LayoutModel",
            "_view_count": null,
            "_view_module": "@jupyter-widgets/base",
            "_view_module_version": "1.2.0",
            "_view_name": "LayoutView",
            "align_content": null,
            "align_items": null,
            "align_self": null,
            "border": null,
            "bottom": null,
            "display": null,
            "flex": null,
            "flex_flow": null,
            "grid_area": null,
            "grid_auto_columns": null,
            "grid_auto_flow": null,
            "grid_auto_rows": null,
            "grid_column": null,
            "grid_gap": null,
            "grid_row": null,
            "grid_template_areas": null,
            "grid_template_columns": null,
            "grid_template_rows": null,
            "height": null,
            "justify_content": null,
            "justify_items": null,
            "left": null,
            "margin": null,
            "max_height": null,
            "max_width": null,
            "min_height": null,
            "min_width": null,
            "object_fit": null,
            "object_position": null,
            "order": null,
            "overflow": null,
            "overflow_x": null,
            "overflow_y": null,
            "padding": null,
            "right": null,
            "top": null,
            "visibility": null,
            "width": null
          }
        },
        "dbf021cdfe02461894b463aaf6adfe75": {
          "model_module": "@jupyter-widgets/base",
          "model_module_version": "1.2.0",
          "model_name": "LayoutModel",
          "state": {
            "_model_module": "@jupyter-widgets/base",
            "_model_module_version": "1.2.0",
            "_model_name": "LayoutModel",
            "_view_count": null,
            "_view_module": "@jupyter-widgets/base",
            "_view_module_version": "1.2.0",
            "_view_name": "LayoutView",
            "align_content": null,
            "align_items": null,
            "align_self": null,
            "border": null,
            "bottom": null,
            "display": null,
            "flex": null,
            "flex_flow": null,
            "grid_area": null,
            "grid_auto_columns": null,
            "grid_auto_flow": null,
            "grid_auto_rows": null,
            "grid_column": null,
            "grid_gap": null,
            "grid_row": null,
            "grid_template_areas": null,
            "grid_template_columns": null,
            "grid_template_rows": null,
            "height": null,
            "justify_content": null,
            "justify_items": null,
            "left": null,
            "margin": null,
            "max_height": null,
            "max_width": null,
            "min_height": null,
            "min_width": null,
            "object_fit": null,
            "object_position": null,
            "order": null,
            "overflow": null,
            "overflow_x": null,
            "overflow_y": null,
            "padding": null,
            "right": null,
            "top": null,
            "visibility": null,
            "width": null
          }
        },
        "e0f3341ee6b94bcbbab42c040ea93092": {
          "model_module": "@jupyter-widgets/controls",
          "model_module_version": "1.5.0",
          "model_name": "DescriptionStyleModel",
          "state": {
            "_model_module": "@jupyter-widgets/controls",
            "_model_module_version": "1.5.0",
            "_model_name": "DescriptionStyleModel",
            "_view_count": null,
            "_view_module": "@jupyter-widgets/base",
            "_view_module_version": "1.2.0",
            "_view_name": "StyleView",
            "description_width": ""
          }
        },
        "e421726d0e364cfdbf2a74f81a6ba0d0": {
          "model_module": "@jupyter-widgets/output",
          "model_module_version": "1.0.0",
          "model_name": "OutputModel",
          "state": {
            "_dom_classes": [],
            "_model_module": "@jupyter-widgets/output",
            "_model_module_version": "1.0.0",
            "_model_name": "OutputModel",
            "_view_count": null,
            "_view_module": "@jupyter-widgets/output",
            "_view_module_version": "1.0.0",
            "_view_name": "OutputView",
            "layout": "IPY_MODEL_01c99dcb0ce04024909aa7715ea2e418",
            "msg_id": "",
            "outputs": [
              {
                "name": "stdout",
                "output_type": "stream",
                "text": [
                  "Recipes with 'unsalted butter' at difficulty 9:\n",
                  "Johnnycakes\n",
                  "Corn Casserole III\n",
                  "Cilantro and Lime Butter\n"
                ]
              }
            ]
          }
        },
        "ef2eb747fd9549c6985dfabbe3769c35": {
          "model_module": "@jupyter-widgets/base",
          "model_module_version": "1.2.0",
          "model_name": "LayoutModel",
          "state": {
            "_model_module": "@jupyter-widgets/base",
            "_model_module_version": "1.2.0",
            "_model_name": "LayoutModel",
            "_view_count": null,
            "_view_module": "@jupyter-widgets/base",
            "_view_module_version": "1.2.0",
            "_view_name": "LayoutView",
            "align_content": null,
            "align_items": null,
            "align_self": null,
            "border": null,
            "bottom": null,
            "display": null,
            "flex": null,
            "flex_flow": null,
            "grid_area": null,
            "grid_auto_columns": null,
            "grid_auto_flow": null,
            "grid_auto_rows": null,
            "grid_column": null,
            "grid_gap": null,
            "grid_row": null,
            "grid_template_areas": null,
            "grid_template_columns": null,
            "grid_template_rows": null,
            "height": null,
            "justify_content": null,
            "justify_items": null,
            "left": null,
            "margin": null,
            "max_height": null,
            "max_width": null,
            "min_height": null,
            "min_width": null,
            "object_fit": null,
            "object_position": null,
            "order": null,
            "overflow": null,
            "overflow_x": null,
            "overflow_y": null,
            "padding": null,
            "right": null,
            "top": null,
            "visibility": null,
            "width": null
          }
        }
      }
    }
  },
  "nbformat": 4,
  "nbformat_minor": 0
}
