{
  "cells": [
    {
      "cell_type": "code",
      "execution_count": 17,
      "metadata": {
        "colab": {
          "base_uri": "https://localhost:8080/",
          "height": 442,
          "referenced_widgets": [
            "9987c768bc4c428a896044176df1edaa",
            "d75a190bd8be459f9484906feaf02355",
            "c4d3604a75c048ca9171d28106be7b40",
            "eec7a7d933914d6d9fe3bab07b4abae7",
            "6794d1c0e9ea457f828102ac2d1d693d",
            "ad8c31e5673a4983b771239719df7952",
            "b39e49c0925c412cac8fd68c7d95df98",
            "86daccedf63b4cca8d941466eff442fa",
            "c58eae2695ce43fc8600485132448b59"
          ]
        },
        "id": "Jg0S_lW4Fmnx",
        "outputId": "442f94d8-065b-48b7-aaef-395a9498f2e8"
      },
      "outputs": [
        {
          "data": {
            "application/vnd.jupyter.widget-view+json": {
              "model_id": "9987c768bc4c428a896044176df1edaa",
              "version_major": 2,
              "version_minor": 0
            },
            "text/plain": [
              "Dropdown(description='Select Cuisine:', options=('American', 'Asian', 'Barbecue', 'Cajun & Creole', 'Chinese',…"
            ]
          },
          "metadata": {},
          "output_type": "display_data"
        },
        {
          "data": {
            "application/vnd.jupyter.widget-view+json": {
              "model_id": "eec7a7d933914d6d9fe3bab07b4abae7",
              "version_major": 2,
              "version_minor": 0
            },
            "text/plain": [
              "Output()"
            ]
          },
          "metadata": {},
          "output_type": "display_data"
        },
        {
          "data": {
            "application/vnd.jupyter.widget-view+json": {
              "model_id": "ad8c31e5673a4983b771239719df7952",
              "version_major": 2,
              "version_minor": 0
            },
            "text/plain": [
              "Output()"
            ]
          },
          "metadata": {},
          "output_type": "display_data"
        },
        {
          "data": {
            "application/vnd.jupyter.widget-view+json": {
              "model_id": "86daccedf63b4cca8d941466eff442fa",
              "version_major": 2,
              "version_minor": 0
            },
            "text/plain": [
              "Output()"
            ]
          },
          "metadata": {},
          "output_type": "display_data"
        }
      ],
      "source": [
        "import pandas as pd\n",
        "import numpy as np\n",
        "import ipywidgets as widgets\n",
        "from IPython.display import display\n",
        "\n",
        "# Load the dataset\n",
        "recipes_df = pd.read_pickle('Yummly Clean.pkl')\n",
        "\n",
        "# Assuming column names are 'cuisine', 'rating', and 'ingredients'. Adjust as necessary based on your DataFrame inspection\n",
        "dish_name_col = 'recipeName'\n",
        "ingredients_col = 'ingredients'  # Adjust if your ingredients column name is different\n",
        "cuisine_col = 'cuisine'  # Adjust if your cuisine column name is different\n",
        "rating_col = 'rating'  # Adjust if your rating column name is different\n",
        "\n",
        "# Calculate the average rating per cuisine\n",
        "cuisine_ratings = recipes_df.groupby(cuisine_col)[rating_col].agg(['mean']).reset_index()\n",
        "cuisine_ratings.columns = ['Cuisine', 'Average Rating']\n",
        "\n",
        "# Calculate top ingredients for each cuisine\n",
        "top_ingredients_by_cuisine = (\n",
        "    recipes_df.explode(ingredients_col)\n",
        "    .groupby(cuisine_col)[ingredients_col]\n",
        "    .value_counts()\n",
        "    .groupby(level=0, group_keys=False)\n",
        "    .head(5)\n",
        "    .reset_index(name='count')\n",
        "    .pivot(index=cuisine_col, columns=ingredients_col, values='count')\n",
        ")\n",
        "\n",
        "# Dropdown widget for selecting cuisine\n",
        "cuisine_dropdown = widgets.Dropdown(\n",
        "    options=cuisine_ratings['Cuisine'].unique().tolist(),\n",
        "    description='Select Cuisine:',\n",
        "    disabled=False\n",
        ")\n",
        "\n",
        "# Output widgets for displaying the average rating and top ingredients\n",
        "rating_output = widgets.Output()\n",
        "top_ingredients_output = widgets.Output()\n",
        "random_recipes_output = widgets.Output()\n",
        "\n",
        "# Function to update outputs based on selected cuisine\n",
        "def on_cuisine_change(change):\n",
        "    if change['type'] == 'change' and change['name'] == 'value':\n",
        "        cuisine = change['new']\n",
        "\n",
        "        # Display the average rating\n",
        "        avg_rating = cuisine_ratings[cuisine_ratings['Cuisine'] == cuisine]['Average Rating'].values[0]\n",
        "        with rating_output:\n",
        "            rating_output.clear_output()\n",
        "            print(f\"\\nAverage Rating for {cuisine}: {avg_rating:.2f}\")\n",
        "\n",
        "        # Display the top ingredients\n",
        "        if cuisine in top_ingredients_by_cuisine.index:\n",
        "            top_ingredients = top_ingredients_by_cuisine.loc[cuisine].nlargest(5).index.tolist()\n",
        "            with top_ingredients_output:\n",
        "                top_ingredients_output.clear_output()\n",
        "                print(f\"\\nTop ingredients for {cuisine} cuisine:\")\n",
        "                print(', '.join(top_ingredients))\n",
        "        else:\n",
        "            with top_ingredients_output:\n",
        "                top_ingredients_output.clear_output()\n",
        "                print(f\"No data available for {cuisine} cuisine.\")\n",
        "\n",
        "        # Display 10 random recipes from the selected cuisine\n",
        "        random_recipes = recipes_df[recipes_df[cuisine_col] == cuisine][dish_name_col].sample(10).tolist()\n",
        "        with random_recipes_output:\n",
        "          random_recipes_output.clear_output()\n",
        "          print(f\"\\nCommon recipes for {cuisine} cuisine:\")\n",
        "          for recipe in random_recipes:\n",
        "            print(recipe)\n",
        "\n",
        "\n",
        "# Observe changes in the dropdown to update outputs accordingly\n",
        "cuisine_dropdown.observe(on_cuisine_change, names='value')\n",
        "\n",
        "# Display widgets\n",
        "display(cuisine_dropdown, rating_output, top_ingredients_output, random_recipes_output)\n"
      ]
    }
  ],
  "metadata": {
    "colab": {
      "provenance": []
    },
    "kernelspec": {
      "display_name": "Python 3",
      "name": "python3"
    },
    "language_info": {
      "name": "python"
    },
    "widgets": {
      "application/vnd.jupyter.widget-state+json": {
        "6794d1c0e9ea457f828102ac2d1d693d": {
          "model_module": "@jupyter-widgets/base",
          "model_module_version": "1.2.0",
          "model_name": "LayoutModel",
          "state": {
            "_model_module": "@jupyter-widgets/base",
            "_model_module_version": "1.2.0",
            "_model_name": "LayoutModel",
            "_view_count": null,
            "_view_module": "@jupyter-widgets/base",
            "_view_module_version": "1.2.0",
            "_view_name": "LayoutView",
            "align_content": null,
            "align_items": null,
            "align_self": null,
            "border": null,
            "bottom": null,
            "display": null,
            "flex": null,
            "flex_flow": null,
            "grid_area": null,
            "grid_auto_columns": null,
            "grid_auto_flow": null,
            "grid_auto_rows": null,
            "grid_column": null,
            "grid_gap": null,
            "grid_row": null,
            "grid_template_areas": null,
            "grid_template_columns": null,
            "grid_template_rows": null,
            "height": null,
            "justify_content": null,
            "justify_items": null,
            "left": null,
            "margin": null,
            "max_height": null,
            "max_width": null,
            "min_height": null,
            "min_width": null,
            "object_fit": null,
            "object_position": null,
            "order": null,
            "overflow": null,
            "overflow_x": null,
            "overflow_y": null,
            "padding": null,
            "right": null,
            "top": null,
            "visibility": null,
            "width": null
          }
        },
        "86daccedf63b4cca8d941466eff442fa": {
          "model_module": "@jupyter-widgets/output",
          "model_module_version": "1.0.0",
          "model_name": "OutputModel",
          "state": {
            "_dom_classes": [],
            "_model_module": "@jupyter-widgets/output",
            "_model_module_version": "1.0.0",
            "_model_name": "OutputModel",
            "_view_count": null,
            "_view_module": "@jupyter-widgets/output",
            "_view_module_version": "1.0.0",
            "_view_name": "OutputView",
            "layout": "IPY_MODEL_c58eae2695ce43fc8600485132448b59",
            "msg_id": "",
            "outputs": [
              {
                "name": "stdout",
                "output_type": "stream",
                "text": [
                  "\n",
                  "Common recipes for English cuisine:\n",
                  "English Cottage Pie\n",
                  "English Scones\n",
                  "English Style Scones\n",
                  "Basic British Scones\n",
                  "Brown Sugar Shortbread\n",
                  "Proper English Scones\n",
                  "Cornish Splits\n",
                  "Yorkshire Pudding\n",
                  "Beef Wellington\n",
                  "British FlapJacks\n"
                ]
              }
            ]
          }
        },
        "9987c768bc4c428a896044176df1edaa": {
          "model_module": "@jupyter-widgets/controls",
          "model_module_version": "1.5.0",
          "model_name": "DropdownModel",
          "state": {
            "_dom_classes": [],
            "_model_module": "@jupyter-widgets/controls",
            "_model_module_version": "1.5.0",
            "_model_name": "DropdownModel",
            "_options_labels": [
              "American",
              "Asian",
              "Barbecue",
              "Cajun & Creole",
              "Chinese",
              "Cuban",
              "English",
              "French",
              "German",
              "Greek",
              "Hawaiian",
              "Hungarian",
              "Indian",
              "Irish",
              "Italian",
              "Japanese",
              "Mediterranean",
              "Mexican",
              "Moroccan",
              "Portuguese",
              "Southern & Soul Food",
              "Southwestern",
              "Spanish",
              "Swedish",
              "Thai"
            ],
            "_view_count": null,
            "_view_module": "@jupyter-widgets/controls",
            "_view_module_version": "1.5.0",
            "_view_name": "DropdownView",
            "description": "Select Cuisine:",
            "description_tooltip": null,
            "disabled": false,
            "index": 6,
            "layout": "IPY_MODEL_d75a190bd8be459f9484906feaf02355",
            "style": "IPY_MODEL_c4d3604a75c048ca9171d28106be7b40"
          }
        },
        "ad8c31e5673a4983b771239719df7952": {
          "model_module": "@jupyter-widgets/output",
          "model_module_version": "1.0.0",
          "model_name": "OutputModel",
          "state": {
            "_dom_classes": [],
            "_model_module": "@jupyter-widgets/output",
            "_model_module_version": "1.0.0",
            "_model_name": "OutputModel",
            "_view_count": null,
            "_view_module": "@jupyter-widgets/output",
            "_view_module_version": "1.0.0",
            "_view_name": "OutputView",
            "layout": "IPY_MODEL_b39e49c0925c412cac8fd68c7d95df98",
            "msg_id": "",
            "outputs": [
              {
                "name": "stdout",
                "output_type": "stream",
                "text": [
                  "\n",
                  "Top ingredients for English cuisine:\n",
                  "[flour, baking powder, salt, sugar, unsalted butter, whole milk, large eggs, strawberry jam], [all-purpose flour, butter, cooking spray, chopped onion, carrots, cremini mushrooms, extra lean ground beef, tomato paste, lower sodium beef broth, ground black pepper, fresh parsley, fresh thyme leaves, salt, mashed potatoes, sharp white cheddar cheese, paprika], [lardons, mushrooms, medium tomatoes, eggs, cheddar cheese, black pepper], [large eggs, buttermilk, whole milk, all-purpose flour, sugar, baking powder, salt, unsalted butter, heavy cream, raw honey], [plain flour, baking powder, caster sugar, unsalted butter, salt, eggs, milk, vanilla extract]\n"
                ]
              }
            ]
          }
        },
        "b39e49c0925c412cac8fd68c7d95df98": {
          "model_module": "@jupyter-widgets/base",
          "model_module_version": "1.2.0",
          "model_name": "LayoutModel",
          "state": {
            "_model_module": "@jupyter-widgets/base",
            "_model_module_version": "1.2.0",
            "_model_name": "LayoutModel",
            "_view_count": null,
            "_view_module": "@jupyter-widgets/base",
            "_view_module_version": "1.2.0",
            "_view_name": "LayoutView",
            "align_content": null,
            "align_items": null,
            "align_self": null,
            "border": null,
            "bottom": null,
            "display": null,
            "flex": null,
            "flex_flow": null,
            "grid_area": null,
            "grid_auto_columns": null,
            "grid_auto_flow": null,
            "grid_auto_rows": null,
            "grid_column": null,
            "grid_gap": null,
            "grid_row": null,
            "grid_template_areas": null,
            "grid_template_columns": null,
            "grid_template_rows": null,
            "height": null,
            "justify_content": null,
            "justify_items": null,
            "left": null,
            "margin": null,
            "max_height": null,
            "max_width": null,
            "min_height": null,
            "min_width": null,
            "object_fit": null,
            "object_position": null,
            "order": null,
            "overflow": null,
            "overflow_x": null,
            "overflow_y": null,
            "padding": null,
            "right": null,
            "top": null,
            "visibility": null,
            "width": null
          }
        },
        "c4d3604a75c048ca9171d28106be7b40": {
          "model_module": "@jupyter-widgets/controls",
          "model_module_version": "1.5.0",
          "model_name": "DescriptionStyleModel",
          "state": {
            "_model_module": "@jupyter-widgets/controls",
            "_model_module_version": "1.5.0",
            "_model_name": "DescriptionStyleModel",
            "_view_count": null,
            "_view_module": "@jupyter-widgets/base",
            "_view_module_version": "1.2.0",
            "_view_name": "StyleView",
            "description_width": ""
          }
        },
        "c58eae2695ce43fc8600485132448b59": {
          "model_module": "@jupyter-widgets/base",
          "model_module_version": "1.2.0",
          "model_name": "LayoutModel",
          "state": {
            "_model_module": "@jupyter-widgets/base",
            "_model_module_version": "1.2.0",
            "_model_name": "LayoutModel",
            "_view_count": null,
            "_view_module": "@jupyter-widgets/base",
            "_view_module_version": "1.2.0",
            "_view_name": "LayoutView",
            "align_content": null,
            "align_items": null,
            "align_self": null,
            "border": null,
            "bottom": null,
            "display": null,
            "flex": null,
            "flex_flow": null,
            "grid_area": null,
            "grid_auto_columns": null,
            "grid_auto_flow": null,
            "grid_auto_rows": null,
            "grid_column": null,
            "grid_gap": null,
            "grid_row": null,
            "grid_template_areas": null,
            "grid_template_columns": null,
            "grid_template_rows": null,
            "height": null,
            "justify_content": null,
            "justify_items": null,
            "left": null,
            "margin": null,
            "max_height": null,
            "max_width": null,
            "min_height": null,
            "min_width": null,
            "object_fit": null,
            "object_position": null,
            "order": null,
            "overflow": null,
            "overflow_x": null,
            "overflow_y": null,
            "padding": null,
            "right": null,
            "top": null,
            "visibility": null,
            "width": null
          }
        },
        "d75a190bd8be459f9484906feaf02355": {
          "model_module": "@jupyter-widgets/base",
          "model_module_version": "1.2.0",
          "model_name": "LayoutModel",
          "state": {
            "_model_module": "@jupyter-widgets/base",
            "_model_module_version": "1.2.0",
            "_model_name": "LayoutModel",
            "_view_count": null,
            "_view_module": "@jupyter-widgets/base",
            "_view_module_version": "1.2.0",
            "_view_name": "LayoutView",
            "align_content": null,
            "align_items": null,
            "align_self": null,
            "border": null,
            "bottom": null,
            "display": null,
            "flex": null,
            "flex_flow": null,
            "grid_area": null,
            "grid_auto_columns": null,
            "grid_auto_flow": null,
            "grid_auto_rows": null,
            "grid_column": null,
            "grid_gap": null,
            "grid_row": null,
            "grid_template_areas": null,
            "grid_template_columns": null,
            "grid_template_rows": null,
            "height": null,
            "justify_content": null,
            "justify_items": null,
            "left": null,
            "margin": null,
            "max_height": null,
            "max_width": null,
            "min_height": null,
            "min_width": null,
            "object_fit": null,
            "object_position": null,
            "order": null,
            "overflow": null,
            "overflow_x": null,
            "overflow_y": null,
            "padding": null,
            "right": null,
            "top": null,
            "visibility": null,
            "width": null
          }
        },
        "eec7a7d933914d6d9fe3bab07b4abae7": {
          "model_module": "@jupyter-widgets/output",
          "model_module_version": "1.0.0",
          "model_name": "OutputModel",
          "state": {
            "_dom_classes": [],
            "_model_module": "@jupyter-widgets/output",
            "_model_module_version": "1.0.0",
            "_model_name": "OutputModel",
            "_view_count": null,
            "_view_module": "@jupyter-widgets/output",
            "_view_module_version": "1.0.0",
            "_view_name": "OutputView",
            "layout": "IPY_MODEL_6794d1c0e9ea457f828102ac2d1d693d",
            "msg_id": "",
            "outputs": [
              {
                "name": "stdout",
                "output_type": "stream",
                "text": [
                  "\n",
                  "Average Rating for English: 4.11\n"
                ]
              }
            ]
          }
        }
      }
    }
  },
  "nbformat": 4,
  "nbformat_minor": 0
}
