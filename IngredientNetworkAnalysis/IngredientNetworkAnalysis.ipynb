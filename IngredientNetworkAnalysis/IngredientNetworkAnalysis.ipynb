{
  "cells": [
    {
      "cell_type": "code",
      "execution_count": 5,
      "metadata": {
        "colab": {
          "base_uri": "https://localhost:8080/",
          "height": 67,
          "referenced_widgets": [
            "2320f5f531614cb78b7031c75ee37894",
            "e3c8276abc524524b9a41e7d99cebcc7",
            "5ce2e49958f34e74b26e3d31589b8ee6",
            "f7134cac84ef4631b628f9161682ed73",
            "e2391094525f4ddd886672bc17b7ad11"
          ]
        },
        "id": "SQDUoE88gU7g",
        "outputId": "7f362bcb-fa2f-4780-9782-45f8a4d8c115"
      },
      "outputs": [
        {
          "data": {
            "application/vnd.jupyter.widget-view+json": {
              "model_id": "2320f5f531614cb78b7031c75ee37894",
              "version_major": 2,
              "version_minor": 0
            },
            "text/plain": [
              "Text(value='', description='Ingredient:', placeholder='Type an ingredient')"
            ]
          },
          "metadata": {},
          "output_type": "display_data"
        },
        {
          "data": {
            "application/vnd.jupyter.widget-view+json": {
              "model_id": "f7134cac84ef4631b628f9161682ed73",
              "version_major": 2,
              "version_minor": 0
            },
            "text/plain": [
              "Output()"
            ]
          },
          "metadata": {},
          "output_type": "display_data"
        }
      ],
      "source": [
        "import json\n",
        "import pandas as pd\n",
        "import numpy as np\n",
        "import networkx as nx\n",
        "import matplotlib.pyplot as plt\n",
        "import ipywidgets as widgets\n",
        "from IPython.display import display\n",
        "\n",
        "# Load the JSON Lines file and create a co-occurrence matrix\n",
        "file_path = 'Recipes.json'\n",
        "recipes = []\n",
        "with open(file_path, 'r') as file:\n",
        "    for line in file:\n",
        "        recipe = json.loads(line.strip())\n",
        "        recipes.append(recipe)\n",
        "\n",
        "# Extracting all unique ingredients\n",
        "ingredients = set()\n",
        "for recipe in recipes:\n",
        "    for ingredient in recipe['ingredients']:\n",
        "        ingredients.add(ingredient['ingredient'].lower())\n",
        "\n",
        "# Create a co-occurrence matrix\n",
        "co_occurrence = {ing: {ing2: 0 for ing2 in ingredients} for ing in ingredients}\n",
        "for recipe in recipes:\n",
        "    recipe_ingredients = [ing['ingredient'].lower() for ing in recipe['ingredients']]\n",
        "    for i in range(len(recipe_ingredients)):\n",
        "        for j in range(i + 1, len(recipe_ingredients)):\n",
        "            co_occurrence[recipe_ingredients[i]][recipe_ingredients[j]] += 1\n",
        "            co_occurrence[recipe_ingredients[j]][recipe_ingredients[i]] += 1\n",
        "\n",
        "# Convert to DataFrame for easier handling\n",
        "co_occurrence_df = pd.DataFrame(co_occurrence)\n",
        "\"\"\"\n",
        "# Create graph from the co-occurrence matrix\n",
        "G = nx.from_pandas_adjacency(co_occurrence_df)\n",
        "threshold = 1  # Set a threshold for visual clarity\n",
        "to_remove = [node for node, degree in dict(G.degree()).items() if degree <= threshold]\n",
        "G.remove_nodes_from(to_remove)\n",
        "\n",
        "# Draw the network\n",
        "plt.figure(figsize=(14, 14))\n",
        "pos = nx.spring_layout(G, k=0.15, iterations=20)\n",
        "sizes = [G.degree[node]*100 for node in G]\n",
        "nx.draw_networkx_nodes(G, pos, node_size=sizes, node_color='lightblue', alpha=0.6)\n",
        "nx.draw_networkx_edges(G, pos, alpha=0.4)\n",
        "nx.draw_networkx_labels(G, pos, font_size=8, font_family='sans-serif')\n",
        "plt.title('Ingredient Co-occurrence Network')\n",
        "plt.axis('off')\n",
        "plt.show()\n",
        "\"\"\"\n",
        "# Define a function to get top co-occurrences\n",
        "def get_top_cooccurrences(ingredient, matrix, top_n=3):\n",
        "    if ingredient in matrix.columns:\n",
        "        cooccurrences = matrix[ingredient]\n",
        "        top_cooccurrences = cooccurrences.sort_values(ascending=False).head(top_n + 1)\n",
        "        return top_cooccurrences.index[1:]  # Skip self\n",
        "    else:\n",
        "        return \"Ingredient not found.\"\n",
        "\n",
        "# Create interactive input widget for ingredient input\n",
        "text_input = widgets.Text(value='', placeholder='Type an ingredient', description='Ingredient:', disabled=False)\n",
        "output_area = widgets.Output()\n",
        "\n",
        "def on_text_submit(change):\n",
        "    output_area.clear_output()\n",
        "    with output_area:\n",
        "        ingredient = change['new'].lower()\n",
        "        top_ingredients = get_top_cooccurrences(ingredient, co_occurrence_df, 3)\n",
        "        if isinstance(top_ingredients, str):\n",
        "            print(top_ingredients)\n",
        "        else:\n",
        "            print(\"Top co-occurring ingredients with\", ingredient, \"are:\", ', '.join(top_ingredients))\n",
        "\n",
        "text_input.observe(on_text_submit, names='value')\n",
        "display(text_input, output_area)\n"
      ]
    }
  ],
  "metadata": {
    "colab": {
      "provenance": []
    },
    "kernelspec": {
      "display_name": "Python 3",
      "name": "python3"
    },
    "language_info": {
      "name": "python"
    },
    "widgets": {
      "application/vnd.jupyter.widget-state+json": {
        "2320f5f531614cb78b7031c75ee37894": {
          "model_module": "@jupyter-widgets/controls",
          "model_module_version": "1.5.0",
          "model_name": "TextModel",
          "state": {
            "_dom_classes": [],
            "_model_module": "@jupyter-widgets/controls",
            "_model_module_version": "1.5.0",
            "_model_name": "TextModel",
            "_view_count": null,
            "_view_module": "@jupyter-widgets/controls",
            "_view_module_version": "1.5.0",
            "_view_name": "TextView",
            "continuous_update": true,
            "description": "Ingredient:",
            "description_tooltip": null,
            "disabled": false,
            "layout": "IPY_MODEL_e3c8276abc524524b9a41e7d99cebcc7",
            "placeholder": "Type an ingredient",
            "style": "IPY_MODEL_5ce2e49958f34e74b26e3d31589b8ee6",
            "value": "tomatoes"
          }
        },
        "5ce2e49958f34e74b26e3d31589b8ee6": {
          "model_module": "@jupyter-widgets/controls",
          "model_module_version": "1.5.0",
          "model_name": "DescriptionStyleModel",
          "state": {
            "_model_module": "@jupyter-widgets/controls",
            "_model_module_version": "1.5.0",
            "_model_name": "DescriptionStyleModel",
            "_view_count": null,
            "_view_module": "@jupyter-widgets/base",
            "_view_module_version": "1.2.0",
            "_view_name": "StyleView",
            "description_width": ""
          }
        },
        "e2391094525f4ddd886672bc17b7ad11": {
          "model_module": "@jupyter-widgets/base",
          "model_module_version": "1.2.0",
          "model_name": "LayoutModel",
          "state": {
            "_model_module": "@jupyter-widgets/base",
            "_model_module_version": "1.2.0",
            "_model_name": "LayoutModel",
            "_view_count": null,
            "_view_module": "@jupyter-widgets/base",
            "_view_module_version": "1.2.0",
            "_view_name": "LayoutView",
            "align_content": null,
            "align_items": null,
            "align_self": null,
            "border": null,
            "bottom": null,
            "display": null,
            "flex": null,
            "flex_flow": null,
            "grid_area": null,
            "grid_auto_columns": null,
            "grid_auto_flow": null,
            "grid_auto_rows": null,
            "grid_column": null,
            "grid_gap": null,
            "grid_row": null,
            "grid_template_areas": null,
            "grid_template_columns": null,
            "grid_template_rows": null,
            "height": null,
            "justify_content": null,
            "justify_items": null,
            "left": null,
            "margin": null,
            "max_height": null,
            "max_width": null,
            "min_height": null,
            "min_width": null,
            "object_fit": null,
            "object_position": null,
            "order": null,
            "overflow": null,
            "overflow_x": null,
            "overflow_y": null,
            "padding": null,
            "right": null,
            "top": null,
            "visibility": null,
            "width": null
          }
        },
        "e3c8276abc524524b9a41e7d99cebcc7": {
          "model_module": "@jupyter-widgets/base",
          "model_module_version": "1.2.0",
          "model_name": "LayoutModel",
          "state": {
            "_model_module": "@jupyter-widgets/base",
            "_model_module_version": "1.2.0",
            "_model_name": "LayoutModel",
            "_view_count": null,
            "_view_module": "@jupyter-widgets/base",
            "_view_module_version": "1.2.0",
            "_view_name": "LayoutView",
            "align_content": null,
            "align_items": null,
            "align_self": null,
            "border": null,
            "bottom": null,
            "display": null,
            "flex": null,
            "flex_flow": null,
            "grid_area": null,
            "grid_auto_columns": null,
            "grid_auto_flow": null,
            "grid_auto_rows": null,
            "grid_column": null,
            "grid_gap": null,
            "grid_row": null,
            "grid_template_areas": null,
            "grid_template_columns": null,
            "grid_template_rows": null,
            "height": null,
            "justify_content": null,
            "justify_items": null,
            "left": null,
            "margin": null,
            "max_height": null,
            "max_width": null,
            "min_height": null,
            "min_width": null,
            "object_fit": null,
            "object_position": null,
            "order": null,
            "overflow": null,
            "overflow_x": null,
            "overflow_y": null,
            "padding": null,
            "right": null,
            "top": null,
            "visibility": null,
            "width": null
          }
        },
        "f7134cac84ef4631b628f9161682ed73": {
          "model_module": "@jupyter-widgets/output",
          "model_module_version": "1.0.0",
          "model_name": "OutputModel",
          "state": {
            "_dom_classes": [],
            "_model_module": "@jupyter-widgets/output",
            "_model_module_version": "1.0.0",
            "_model_name": "OutputModel",
            "_view_count": null,
            "_view_module": "@jupyter-widgets/output",
            "_view_module_version": "1.0.0",
            "_view_name": "OutputView",
            "layout": "IPY_MODEL_e2391094525f4ddd886672bc17b7ad11",
            "msg_id": "",
            "outputs": [
              {
                "name": "stdout",
                "output_type": "stream",
                "text": [
                  "Top co-occurring ingredients with tomatoes are: olive oil, cloves garlic, salt\n"
                ]
              }
            ]
          }
        }
      }
    }
  },
  "nbformat": 4,
  "nbformat_minor": 0
}
